{
 "cells": [
  {
   "cell_type": "markdown",
   "metadata": {},
   "source": [
    "\n",
    "<p align=\"center\">\n",
    " <img width=\"100%\" src=\"../../multimedia/mindstorms_51515_logo.png\">\n",
    "</p>\n",
    "\n",
    "# `mshub_vs_hub`\n",
    "Comparison between the `mshub` and `hub` functionality.\n",
    "\n",
    "# Required robot\n",
    "* Hub\n",
    "\n",
    "<img src=\"../multimedia/hub.jpg\" width=\"50%\" align=\"center\">\n",
    "\n",
    "# Source code\n",
    "You can find the code in the accompanying [`.py` file](https://github.com/arturomoncadatorres/lego-mindstorms/blob/main/examples/programs/mshub_vs_hub.py). To get it running, simply copy and paste it in a new Mindstorms project.\n",
    "\n",
    "# Imports"
   ]
  },
  {
   "cell_type": "code",
   "execution_count": null,
   "metadata": {},
   "outputs": [],
   "source": [
    "from mindstorms import MSHub, Motor, MotorPair, ColorSensor, DistanceSensor, App\n",
    "from mindstorms.control import wait_for_seconds, wait_until, Timer\n",
    "from mindstorms.operator import greater_than, greater_than_or_equal_to, less_than, less_than_or_equal_to, equal_to, not_equal_to\n",
    "import math"
   ]
  },
  {
   "cell_type": "code",
   "execution_count": null,
   "metadata": {},
   "outputs": [],
   "source": [
    "import hub # Key to enable the `hub` functionality!"
   ]
  },
  {
   "cell_type": "markdown",
   "metadata": {},
   "source": [
    "--------\n",
    "# Initialization\n",
    "#### Using `MSHub`\n",
    "We need to initialize it using\n",
    "\n",
    "`hub = MSHub()`\n",
    "\n",
    "#### Using `hub`\n",
    "We don't need to initialize it. `hub` is already usable as it is.\n",
    "\n",
    "--------\n",
    "# Central button color\n",
    "## Turning it on (with a color)\n",
    "\n",
    "### Using `MSHub`\n",
    "Very straightforward, we just choose which color to display as follows\n",
    "\n",
    "`hub.status_light.on('blue')`\n",
    "\n",
    "See the [example `push_my_color`](https://github.com/arturomoncadatorres/lego-mindstorms/tree/main/examples) for a complete list of colors.\n",
    "\n",
    "### Using `hub`\n",
    "In this case, we can choose a color using the command\n",
    "\n",
    "`hub.led(r, g, b)`\n",
    "\n",
    "Where `r`, `g`, and `b` correspond to RGB values, respectively, with values between 0 and 255.\n",
    "\n",
    "So, if we want to turn it on blue"
   ]
  },
  {
   "cell_type": "code",
   "execution_count": null,
   "metadata": {},
   "outputs": [],
   "source": [
    "hub.led(0, 0, 255)\n",
    "wait_for_seconds(5)"
   ]
  },
  {
   "cell_type": "markdown",
   "metadata": {},
   "source": [
    "Alternatively, you can choose any predefined color by passing it a number, according to the following table:\n",
    "\n",
    "| Color | Number |\n",
    "|---------------|----------|\n",
    "| `pink`          | `1`   |\n",
    "| `violet`      | `2`   |\n",
    "| `blue`      | `3`   |\n",
    "| `azure`      | `4`   |\n",
    "| `cyan`      | `5`   |\n",
    "| `green`      | `6`   |\n",
    "| `yellow`      | `7`   |\n",
    "| `orange`      | `8`   |\n",
    "| `red`      | `9`   |\n",
    "| `white`      | `10`   |"
   ]
  },
  {
   "cell_type": "code",
   "execution_count": null,
   "metadata": {},
   "outputs": [],
   "source": [
    "hub.led(9)\n",
    "wait_for_seconds(5)"
   ]
  },
  {
   "cell_type": "markdown",
   "metadata": {},
   "source": [
    "\n",
    "## Turning it off\n",
    "\n",
    "### Using `MSHub`\n",
    "We display the `black` color\n",
    "\n",
    "`hub.status_light.on('black')`\n",
    "\n",
    "### Using `hub`\n",
    "We just set all values to 0."
   ]
  },
  {
   "cell_type": "code",
   "execution_count": null,
   "metadata": {},
   "outputs": [],
   "source": [
    "hub.led(0, 0, 0)\n",
    "wait_for_seconds(5)"
   ]
  },
  {
   "cell_type": "markdown",
   "metadata": {},
   "source": [
    "Alternatively, you can also use one 0\n",
    "\n",
    "`hub.led(0)`\n",
    "\n",
    "--------\n",
    "# Sounds\n",
    "\n",
    "## Predefined beep sounds\n",
    "\n",
    "### Using `MSHub`\n",
    "Unfortunately, the library of predefined beep sounds is not available.\n",
    "\n",
    "### Using `hub`\n",
    "We can play them very easily."
   ]
  },
  {
   "cell_type": "code",
   "execution_count": null,
   "metadata": {},
   "outputs": [],
   "source": [
    "hub.sound.play(\"/extra_files/Target Destroyed\")"
   ]
  },
  {
   "cell_type": "markdown",
   "metadata": {},
   "source": [
    "The available sounds are given in the next table.\n",
    "\n",
    "| Original robot | Sound |\n",
    "|:---------------|-------|\n",
    "| **Blast**      | `Affirmative` |\n",
    "|                | `Damage` |\n",
    "|                | `Exterminate` |\n",
    "|                | `Fire` |\n",
    "|                | `Grab` |\n",
    "|                | `Hammer` |\n",
    "|                | `Laser` |\n",
    "|                | `Laugh` |\n",
    "|                | `Mission Accomplished` |\n",
    "|                | `Punch` |\n",
    "|                | `Scanning` |\n",
    "|                | `Seek and Destroy` |\n",
    "|                | `Shut Down` |\n",
    "|                | `Target Acquired` |\n",
    "|                | `Target Destroyed` |\n",
    "|                | `Whirl` |\n",
    "| **Charlie**    | `1234` |\n",
    "|                | `Delivery` |\n",
    "|                | `Dizzy` |\n",
    "|                | `Goodbye` |\n",
    "|                | `Hello` |\n",
    "|                | `Hi` |\n",
    "|                | `Hi 5` |\n",
    "|                | `Humming` |\n",
    "|                | `Chuckle` |\n",
    "|                | `Like` |\n",
    "|                | `No` |\n",
    "|                | `Ouch` |\n",
    "|                | `Sad` |\n",
    "|                | `Scared` |\n",
    "|                | `Tadaa` |\n",
    "|                | `Wow` |\n",
    "|                | `Yes` |\n",
    "|                | `Yipee` |\n",
    "|                | `Yuck` |\n",
    "| **Gelo**       | `Activate` |\n",
    "|                | `Kick` |\n",
    "|                | `Shake` |\n",
    "|                | `Deactivate` |\n",
    "|                | `Initialize` |\n",
    "| **MVP**        | `Brick Eating` |\n",
    "|                | `Horn` |\n",
    "|                | `Hydraulics Down` |\n",
    "|                | `Hydraulics Up` |\n",
    "|                | `Reverse` |\n",
    "|                | `Revving` |\n",
    "|                | `Shooting` |\n",
    "| **Tricky**     | `Bowling` |\n",
    "|                | `Celebrate` |\n",
    "|                | `Explosion` |\n",
    "|                | `Goal` |\n",
    "|                | `Hit` |\n",
    "|                | `Slam Dunk` |\n",
    "|                | `Strike` |\n",
    "| **Other**      | `Play` |\n",
    "|                | `Countdown` |\n",
    "|                | `Countdown Tick` |\n",
    "|                | `Error` |\n",
    "|                | `Ping` |\n",
    "|                | `Success Chime` |\n",
    "\n",
    "# References\n",
    "The content of this example is based on my experience, but also relies heavily in the following resources. Be sure to check them out for more!\n",
    "\n",
    "* [LEGO Mindstorms FAQ](https://github.com/maarten-pennings/Lego-Mindstorms/blob/main/ms4/faq.md) by Maarten Pennings\n",
    "* [Undocumented Python for LEGO Mindstorms](https://antonsmindstorms.com/2021/01/14/advanced-undocumented-python-in-spike-prime-and-mindstorms-hubs/) by Anton's Mindstorms <br>"
   ]
  }
 ],
 "metadata": {
  "jupytext": {
   "formats": "ipynb,py:percent"
  },
  "kernelspec": {
   "display_name": "Python 3",
   "language": "python",
   "name": "python3"
  },
  "language_info": {
   "codemirror_mode": {
    "name": "ipython",
    "version": 3
   },
   "file_extension": ".py",
   "mimetype": "text/x-python",
   "name": "python",
   "nbconvert_exporter": "python",
   "pygments_lexer": "ipython3",
   "version": "3.8.5"
  }
 },
 "nbformat": 4,
 "nbformat_minor": 4
}
