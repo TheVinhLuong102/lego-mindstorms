{
 "cells": [
  {
   "cell_type": "markdown",
   "metadata": {},
   "source": [
    "\n",
    "<p align=\"center\">\n",
    " <img width=\"100%\" src=\"../../multimedia/mindstorms_51515_logo.png\">\n",
    "</p>\n",
    "\n",
    "# `hub_image_animation`\n",
    "Small demo of how to display an image and an animation using the hub LEDs.\n",
    "\n",
    "# Required robot\n",
    "* Hub\n",
    "\n",
    "<img src=\"../multimedia/hub.jpg\" width=\"50%\" align=\"center\">\n",
    "\n",
    "# Source code\n",
    "You can find the code in the accompanying [`.py` file](https://github.com/arturomoncadatorres/lego-mindstorms/blob/main/examples/programs/hub_image_animation.py). To get it running, simply copy and paste it in a new Mindstorms project.\n",
    "\n",
    "# Imports"
   ]
  },
  {
   "cell_type": "code",
   "execution_count": null,
   "metadata": {},
   "outputs": [],
   "source": [
    "from mindstorms import MSHub, Motor, MotorPair, ColorSensor, DistanceSensor, App\n",
    "from mindstorms.control import wait_for_seconds, wait_until, Timer\n",
    "from mindstorms.operator import greater_than, greater_than_or_equal_to, less_than, less_than_or_equal_to, equal_to, not_equal_to\n",
    "import math"
   ]
  },
  {
   "cell_type": "code",
   "execution_count": null,
   "metadata": {},
   "outputs": [],
   "source": [
    "import hub"
   ]
  },
  {
   "cell_type": "code",
   "execution_count": null,
   "metadata": {},
   "outputs": [],
   "source": [
    "print(\"-\"*15 + \" Execution started \" + \"-\"*15 + \"\\n\")"
   ]
  },
  {
   "cell_type": "markdown",
   "metadata": {},
   "source": [
    "# Using `hub`\n",
    "Notice we won't be using the standard `MSHub`, but rather the \"raw\" `hub`.\n",
    "It is a little lower level, but it allows us making more things - like turning on the hub's pixels.\n",
    "Fore more information, see [Maarten Pennings brilliant explanation and unofficial documentation about it](https://github.com/maarten-pennings/Lego-Mindstorms/blob/main/ms4/faq.md#why-are-there-so-many-ways-to-do--in-python)."
   ]
  },
  {
   "cell_type": "code",
   "execution_count": null,
   "metadata": {},
   "outputs": [],
   "source": [
    "# Turn the central light off\n",
    "hub.led(0, 0, 0)\n",
    "\n",
    "# Alternatively, use\n",
    "# hub.status_light.on('black')"
   ]
  },
  {
   "cell_type": "markdown",
   "metadata": {},
   "source": [
    "# How to display an image\n",
    "Displaying an image is quite simple. We just need to define which pixels we will turn on and at what intensity.\n",
    "The pixel definition is done in a string in the shape\n",
    "\n",
    "`00000:00000:00000:00000:00000`\n",
    "\n",
    "where each number corresponds to a pixel. Each pixel can have a value between `0` (off) to `9` (on at full intensity).\n",
    "Each group of numbers (from left to right) correspond to a row of the hub (from top to bottom). \n",
    "Notice the groups (i.e., rows) are separated by a colon `:`.\n",
    "\n",
    "Therefore, if we want to turn on the central pixel of the hub at full intensity, we can do the following:"
   ]
  },
  {
   "cell_type": "code",
   "execution_count": null,
   "metadata": {},
   "outputs": [],
   "source": [
    "print(\"Displaying example image...\")\n",
    "img_example = hub.Image('00000:00000:00900:00000:00000')\n",
    "hub.display.show(img_example)\n",
    "wait_for_seconds(5)\n",
    "print(\"DONE!\")"
   ]
  },
  {
   "cell_type": "markdown",
   "metadata": {},
   "source": [
    "# How to display an animation\n",
    "After displaying an image, displaying an animation is quite straightforward, since an animation is\n",
    "basically displaying a succession of images. \n",
    "\n",
    "In this example, we will display a very simple animation: a dot moving from top to bottom (with a tail). \n",
    "However, the basic principle can be translated to more complicated animations. \n",
    "\n",
    "I am sure there are plenty of ways to display an animation, but I found a simple way to do this is the following.\n",
    "\n",
    "First, we will define the frame of the animation in a list."
   ]
  },
  {
   "cell_type": "code",
   "execution_count": null,
   "metadata": {
    "lines_to_next_cell": 2
   },
   "outputs": [],
   "source": [
    "\n",
    "print(\"Defining animation frames...\")\n",
    "\n",
    "frames = ['00000:00000:00000:00000:00000',\n",
    "'00900:00000:00000:00000:00000',\n",
    "'00700:00900:00000:00000:00000',\n",
    "'00500:00700:00900:00000:00000',\n",
    "'00000:00500:00700:00900:00000',\n",
    "'00000:00000:00500:00700:00900',\n",
    "'00000:00000:00000:00500:00700',\n",
    "'00000:00000:00000:00000:00500',\n",
    "'00000:00000:00000:00000:00000']\n",
    "\n",
    "n_frames = len(frames)\n",
    "\n",
    "print(\"DONE!\")"
   ]
  },
  {
   "cell_type": "markdown",
   "metadata": {},
   "source": [
    "Then, we need to define the length of a pause between frames.\n",
    "The larger the pause, the slower the animation will be."
   ]
  },
  {
   "cell_type": "code",
   "execution_count": null,
   "metadata": {},
   "outputs": [],
   "source": [
    "print(\"Defining delay between frames...\")\n",
    "t_pause = 0.05 # In seconds\n",
    "print(\"DONE!\")"
   ]
  },
  {
   "cell_type": "markdown",
   "metadata": {},
   "source": [
    "Lastly, we display the frames (images) consecutively.\n",
    "This can be done very easily in a `for` loop."
   ]
  },
  {
   "cell_type": "code",
   "execution_count": null,
   "metadata": {},
   "outputs": [],
   "source": [
    "print(\"Displaying animation...\")\n",
    "\n",
    "for ii in range(0, n_frames):\n",
    "    img = hub.Image(frames[ii])\n",
    "    hub.display.show(img)\n",
    "    wait_for_seconds(t_pause)\n",
    "\n",
    "print(\"DONE!\")"
   ]
  },
  {
   "cell_type": "markdown",
   "metadata": {},
   "source": [
    "That's it!"
   ]
  },
  {
   "cell_type": "code",
   "execution_count": null,
   "metadata": {},
   "outputs": [],
   "source": [
    "print(\"-\"*15 + \" Execution ended \" + \"-\"*15 + \"\\n\")"
   ]
  }
 ],
 "metadata": {
  "jupytext": {
   "formats": "ipynb,py:percent"
  },
  "kernelspec": {
   "display_name": "Python 3",
   "language": "python",
   "name": "python3"
  },
  "language_info": {
   "codemirror_mode": {
    "name": "ipython",
    "version": 3
   },
   "file_extension": ".py",
   "mimetype": "text/x-python",
   "name": "python",
   "nbconvert_exporter": "python",
   "pygments_lexer": "ipython3",
   "version": "3.8.5"
  }
 },
 "nbformat": 4,
 "nbformat_minor": 4
}
